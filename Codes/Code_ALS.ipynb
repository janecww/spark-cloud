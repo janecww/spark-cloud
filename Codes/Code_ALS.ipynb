{
  "cells": [
    {
      "cell_type": "code",
      "source": [
        "!pip install gdown"
      ],
      "metadata": {
        "application/vnd.databricks.v1+cell": {
          "showTitle": false,
          "cellMetadata": {
            "rowLimit": 10000,
            "byteLimit": 2048000
          },
          "nuid": "cd7052b4-b163-416d-9a23-7c39f600bc3e",
          "inputWidgets": {},
          "title": ""
        },
        "id": "RYbpcyQPBmaM",
        "outputId": "f9a3b6dd-3dcd-4806-8ba8-d3a13236e6b5"
      },
      "outputs": [
        {
          "output_type": "stream",
          "name": "stdout",
          "text": [
            "Collecting gdown\r\n  Downloading gdown-4.7.1-py3-none-any.whl (15 kB)\r\nRequirement already satisfied: requests[socks] in /databricks/python3/lib/python3.9/site-packages (from gdown) (2.27.1)\r\nRequirement already satisfied: filelock in /usr/local/lib/python3.9/dist-packages (from gdown) (3.9.0)\r\nRequirement already satisfied: beautifulsoup4 in /databricks/python3/lib/python3.9/site-packages (from gdown) (4.11.1)\r\nCollecting tqdm\r\n  Downloading tqdm-4.65.0-py3-none-any.whl (77 kB)\r\n\u001b[?25l\r\u001b[K     |████▎                           | 10 kB 9.9 MB/s eta 0:00:01\r\u001b[K     |████████▌                       | 20 kB 7.2 MB/s eta 0:00:01\r\u001b[K     |████████████▊                   | 30 kB 10.2 MB/s eta 0:00:01\r\u001b[K     |█████████████████               | 40 kB 6.2 MB/s eta 0:00:01\r\u001b[K     |█████████████████████▎          | 51 kB 4.2 MB/s eta 0:00:01\r\u001b[K     |█████████████████████████▌      | 61 kB 5.0 MB/s eta 0:00:01\r\u001b[K     |█████████████████████████████▊  | 71 kB 5.7 MB/s eta 0:00:01\r\u001b[K     |████████████████████████████████| 77 kB 3.9 MB/s \r\n\u001b[?25hRequirement already satisfied: six in /databricks/python3/lib/python3.9/site-packages (from gdown) (1.16.0)\r\nRequirement already satisfied: soupsieve>1.2 in /databricks/python3/lib/python3.9/site-packages (from beautifulsoup4->gdown) (2.3.1)\r\nRequirement already satisfied: idna<4,>=2.5 in /databricks/python3/lib/python3.9/site-packages (from requests[socks]->gdown) (3.3)\r\nRequirement already satisfied: charset-normalizer~=2.0.0 in /databricks/python3/lib/python3.9/site-packages (from requests[socks]->gdown) (2.0.4)\r\nRequirement already satisfied: urllib3<1.27,>=1.21.1 in /databricks/python3/lib/python3.9/site-packages (from requests[socks]->gdown) (1.26.9)\r\nRequirement already satisfied: certifi>=2017.4.17 in /databricks/python3/lib/python3.9/site-packages (from requests[socks]->gdown) (2021.10.8)\r\nCollecting PySocks!=1.5.7,>=1.5.6\r\n  Downloading PySocks-1.7.1-py3-none-any.whl (16 kB)\r\nInstalling collected packages: PySocks, tqdm, gdown\r\nSuccessfully installed PySocks-1.7.1 gdown-4.7.1 tqdm-4.65.0\r\n\u001b[33mWARNING: You are using pip version 21.2.4; however, version 23.1.2 is available.\r\nYou should consider upgrading via the '/local_disk0/.ephemeral_nfs/envs/pythonEnv-0b049624-20c4-4f4d-a50d-bc30b98300c0/bin/python -m pip install --upgrade pip' command.\u001b[0m\r\n"
          ]
        }
      ],
      "execution_count": null
    },
    {
      "cell_type": "code",
      "source": [
        "!gdown --fuzzy https://drive.google.com/file/d/1ZJDrnVXUT47skwwhTrjcq8rAfDoJ-389/view?usp=share_link"
      ],
      "metadata": {
        "application/vnd.databricks.v1+cell": {
          "showTitle": false,
          "cellMetadata": {
            "rowLimit": 10000,
            "byteLimit": 2048000
          },
          "nuid": "5baaafe7-54b0-4d36-935d-54574c4a363d",
          "inputWidgets": {},
          "title": ""
        },
        "id": "vtCJBg2xBmaU",
        "outputId": "52f351ab-6eb4-498b-b45f-30923e018cb2"
      },
      "outputs": [
        {
          "output_type": "stream",
          "name": "stdout",
          "text": [
            "Downloading...\r\nFrom: https://drive.google.com/uc?id=1ZJDrnVXUT47skwwhTrjcq8rAfDoJ-389\r\nTo: /databricks/driver/ml-1m.zip\r\n\r  0%|                                               | 0.00/6.01M [00:00<?, ?B/s]\r100%|██████████████████████████████████████| 6.01M/6.01M [00:00<00:00, 62.4MB/s]\r\n"
          ]
        }
      ],
      "execution_count": null
    },
    {
      "cell_type": "code",
      "source": [
        "!unzip ml-1m.zip"
      ],
      "metadata": {
        "application/vnd.databricks.v1+cell": {
          "showTitle": false,
          "cellMetadata": {
            "rowLimit": 10000,
            "byteLimit": 2048000
          },
          "nuid": "a4578e5e-c311-4bce-a0c3-539798ce431c",
          "inputWidgets": {},
          "title": ""
        },
        "id": "lH0nMz7NBmaV",
        "outputId": "ab050173-cfea-4b0d-d6d3-79d6036335e6"
      },
      "outputs": [
        {
          "output_type": "stream",
          "name": "stdout",
          "text": [
            "Archive:  ml-1m.zip\r\n   creating: ml-1m/\r\n  inflating: __MACOSX/._ml-1m        \r\n  inflating: ml-1m/movies.dat        \r\n  inflating: __MACOSX/ml-1m/._movies.dat  \r\n  inflating: ml-1m/ratings.dat       \r\n  inflating: __MACOSX/ml-1m/._ratings.dat  \r\n  inflating: ml-1m/README            \r\n  inflating: __MACOSX/ml-1m/._README  \r\n  inflating: ml-1m/users.dat         \r\n  inflating: __MACOSX/ml-1m/._users.dat  \r\n"
          ]
        }
      ],
      "execution_count": null
    },
    {
      "cell_type": "code",
      "source": [
        "!ls ml-1m"
      ],
      "metadata": {
        "application/vnd.databricks.v1+cell": {
          "showTitle": false,
          "cellMetadata": {
            "rowLimit": 10000,
            "byteLimit": 2048000
          },
          "nuid": "e75d0968-9aa6-4da1-a8d7-26deb60d049f",
          "inputWidgets": {},
          "title": ""
        },
        "id": "jz0KLC3NBmaW",
        "outputId": "a576f032-cbfe-4e36-a675-07187340d750"
      },
      "outputs": [
        {
          "output_type": "stream",
          "name": "stdout",
          "text": [
            "README\tmovies.dat  ratings.dat  users.dat\r\n"
          ]
        }
      ],
      "execution_count": null
    },
    {
      "cell_type": "code",
      "source": [
        "import itertools\n",
        "import matplotlib.pyplot as plt\n",
        "import numpy as np\n",
        "from tqdm import tqdm\n",
        "from pyspark.sql import SparkSession\n",
        "from pyspark.sql.types import StructType, StructField, IntegerType, StringType\n",
        "from pyspark.ml.recommendation import ALS\n",
        "from pyspark.ml.evaluation import RegressionEvaluator\n",
        "import os\n",
        "\n",
        "# Define the hyperparameter search space\n",
        "latent_factors = [5, 10, 15]\n",
        "regularization_params = [0.01, 0.05, 0.1]\n",
        "\n",
        "# Initialize lists to store the results\n",
        "mse_results = []\n",
        "rmse_results = []\n",
        "\n",
        "# Define the schema for the ratings dataset\n",
        "schema = StructType([\n",
        "    StructField(\"UserID\", IntegerType(), True),\n",
        "    StructField(\"MovieID\", IntegerType(), True),\n",
        "    StructField(\"Rating\", IntegerType(), True),\n",
        "    StructField(\"Timestamp\", StringType(), True)\n",
        "])\n",
        "current_dir = os.path.abspath(os.getcwd())\n",
        "# Read the ratings dataset using the schema\n",
        "ratings = spark.read.csv(os.path.join(\"file:/databricks/driver/ml-1m/ratings.dat\"), schema=schema, sep=\"::\")\n",
        "\n",
        "# Split the dataset into training and testing sets\n",
        "train, test = ratings.randomSplit([0.8, 0.2], seed=42)\n",
        "\n",
        "# Define the regression evaluator for MSE and RMSE\n",
        "mse_evaluator = RegressionEvaluator(\n",
        "    metricName=\"mse\",\n",
        "    labelCol=\"Rating\",\n",
        "    predictionCol=\"prediction\"\n",
        ")\n",
        "rmse_evaluator = RegressionEvaluator(\n",
        "    metricName=\"rmse\",\n",
        "    labelCol=\"Rating\",\n",
        "    predictionCol=\"prediction\"\n",
        ")\n",
        "\n",
        "# Perform the grid search\n",
        "for rank, reg in tqdm(itertools.product(latent_factors, regularization_params)):\n",
        "    # Define the ALS model with the current hyperparameters\n",
        "    als = ALS(\n",
        "        userCol=\"UserID\",\n",
        "        itemCol=\"MovieID\",\n",
        "        ratingCol=\"Rating\",\n",
        "        nonnegative=True,\n",
        "        implicitPrefs=False,\n",
        "        coldStartStrategy=\"drop\",\n",
        "        rank=rank,\n",
        "        maxIter=15,\n",
        "        regParam=reg\n",
        "    )\n",
        "\n",
        "    # Fit the ALS model\n",
        "    model = als.fit(train)\n",
        "\n",
        "    # Generate predictions on the test set\n",
        "    predictions = model.transform(test)\n",
        "\n",
        "    # Calculate and store MSE and RMSE\n",
        "    mse = mse_evaluator.evaluate(predictions)\n",
        "    rmse = rmse_evaluator.evaluate(predictions)\n",
        "    mse_results.append(mse)\n",
        "    rmse_results.append(rmse)\n",
        "    print(f\"Rank: {rank}, Reg: {reg}, MSE: {mse:.4f}, RMSE: {rmse:.4f}\")\n",
        "\n",
        "# Reshape the results for visualization\n",
        "mse_results = np.array(mse_results).reshape(len(latent_factors), len(regularization_params))\n",
        "rmse_results = np.array(rmse_results).reshape(len(latent_factors), len(regularization_params))\n",
        "\n",
        "# Plot the MSE heatmap\n",
        "plt.figure(figsize=(10, 6))\n",
        "plt.imshow(mse_results, cmap='viridis', aspect='auto')\n",
        "plt.colorbar(label='MSE')\n",
        "plt.xticks(range(len(regularization_params)), regularization_params)\n",
        "plt.yticks(range(len(latent_factors)), latent_factors)\n",
        "plt.xlabel('Regularization Parameter')\n",
        "plt.ylabel('Number of Latent Factors')\n",
        "plt.title('MSE for Different Hyperparameters')\n",
        "plt.show()\n",
        "\n",
        "# Plot the RMSE heatmap\n",
        "plt.figure(figsize=(10, 6))\n",
        "plt.imshow(rmse_results, cmap='viridis', aspect='auto')\n",
        "plt.colorbar(label='RMSE')\n",
        "plt.xticks(range(len(regularization_params)), regularization_params)\n",
        "plt.yticks(range(len(latent_factors)), latent_factors)\n",
        "plt.xlabel('Regularization Parameter')\n",
        "plt.ylabel('Number of Latent Factors')\n",
        "plt.title('RMSE for Different Hyperparameters')\n",
        "plt.show()"
      ],
      "metadata": {
        "application/vnd.databricks.v1+cell": {
          "showTitle": true,
          "cellMetadata": {
            "rowLimit": 10000,
            "byteLimit": 2048000
          },
          "nuid": "894edc0b-0110-4da8-892b-82c31c194c37",
          "inputWidgets": {},
          "title": "Pyspark ALS Recommendation System (Better)"
        },
        "id": "57hXmwBZBmaX",
        "outputId": "2485f51f-2a67-4100-fc30-fa55677337dd"
      },
      "outputs": [
        {
          "output_type": "stream",
          "name": "stderr",
          "text": [
            "\r0it [00:00, ?it/s]\r1it [04:07, 247.56s/it]"
          ]
        },
        {
          "output_type": "stream",
          "name": "stdout",
          "text": [
            "Rank: 5, Reg: 0.01, MSE: 0.7534, RMSE: 0.8680\n"
          ]
        },
        {
          "output_type": "stream",
          "name": "stderr",
          "text": [
            "\r2it [07:38, 225.91s/it]"
          ]
        },
        {
          "output_type": "stream",
          "name": "stdout",
          "text": [
            "Rank: 5, Reg: 0.05, MSE: 0.7518, RMSE: 0.8670\n"
          ]
        },
        {
          "output_type": "stream",
          "name": "stderr",
          "text": [
            "\r3it [10:59, 214.75s/it]"
          ]
        },
        {
          "output_type": "stream",
          "name": "stdout",
          "text": [
            "Rank: 5, Reg: 0.1, MSE: 0.7663, RMSE: 0.8754\n"
          ]
        },
        {
          "output_type": "stream",
          "name": "stderr",
          "text": [
            "\r4it [14:39, 216.54s/it]"
          ]
        },
        {
          "output_type": "stream",
          "name": "stdout",
          "text": [
            "Rank: 10, Reg: 0.01, MSE: 0.7626, RMSE: 0.8732\n"
          ]
        },
        {
          "output_type": "stream",
          "name": "stderr",
          "text": [
            "\r5it [18:20, 218.48s/it]"
          ]
        },
        {
          "output_type": "stream",
          "name": "stdout",
          "text": [
            "Rank: 10, Reg: 0.05, MSE: 0.7319, RMSE: 0.8555\n"
          ]
        },
        {
          "output_type": "stream",
          "name": "stderr",
          "text": [
            "\r6it [22:04, 220.23s/it]"
          ]
        },
        {
          "output_type": "stream",
          "name": "stdout",
          "text": [
            "Rank: 10, Reg: 0.1, MSE: 0.7487, RMSE: 0.8653\n"
          ]
        },
        {
          "output_type": "stream",
          "name": "stderr",
          "text": [
            "\r7it [26:04, 226.76s/it]"
          ]
        },
        {
          "output_type": "stream",
          "name": "stdout",
          "text": [
            "Rank: 15, Reg: 0.01, MSE: 0.7860, RMSE: 0.8866\n"
          ]
        },
        {
          "output_type": "stream",
          "name": "stderr",
          "text": [
            "\r8it [30:03, 230.67s/it]"
          ]
        },
        {
          "output_type": "stream",
          "name": "stdout",
          "text": [
            "Rank: 15, Reg: 0.05, MSE: 0.7312, RMSE: 0.8551\n"
          ]
        },
        {
          "output_type": "stream",
          "name": "stderr",
          "text": [
            "\r9it [34:08, 235.01s/it]\r9it [34:08, 227.60s/it]"
          ]
        },
        {
          "output_type": "stream",
          "name": "stdout",
          "text": [
            "Rank: 15, Reg: 0.1, MSE: 0.7438, RMSE: 0.8624\n"
          ]
        },
        {
          "output_type": "stream",
          "name": "stderr",
          "text": [
            "\n"
          ]
        },
        {
          "output_type": "display_data",
          "metadata": {
            "application/vnd.databricks.v1+output": {
              "datasetInfos": [],
              "data": "data:image/png;base64,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\n",
              "removedWidgets": [],
              "addedWidgets": {},
              "metadata": {},
              "type": "image",
              "arguments": {}
            }
          },
          "data": {
            "image/png": "[encoded data removed]"
          }
        },
        {
          "output_type": "display_data",
          "metadata": {
            "application/vnd.databricks.v1+output": {
              "datasetInfos": [],
              "data": "data:image/png;base64,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\n",
              "removedWidgets": [],
              "addedWidgets": {},
              "metadata": {},
              "type": "image",
              "arguments": {}
            }
          },
          "data": {
            "image/png": "[encoded data removed]"
          }
        }
      ],
      "execution_count": null
    }
  ],
  "metadata": {
    "application/vnd.databricks.v1+notebook": {
      "notebookName": "NMF-cluster",
      "dashboards": [],
      "notebookMetadata": {
        "pythonIndentUnit": 4
      },
      "language": "python",
      "widgets": {}
    },
    "colab": {
      "provenance": []
    },
    "language_info": {
      "name": "python"
    },
    "kernelspec": {
      "name": "python3",
      "display_name": "Python 3"
    },
    "gpuClass": "standard"
  },
  "nbformat": 4,
  "nbformat_minor": 0
}